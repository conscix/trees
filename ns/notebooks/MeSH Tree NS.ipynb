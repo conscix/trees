{
 "cells": [
  {
   "cell_type": "markdown",
   "metadata": {},
   "source": [
    "# MeSH tree set up"
   ]
  },
  {
   "cell_type": "code",
   "execution_count": 1,
   "metadata": {},
   "outputs": [],
   "source": [
    "import json\n",
    "import pandas as pd\n",
    "from collections import Counter\n",
    "import requests as req"
   ]
  },
  {
   "cell_type": "code",
   "execution_count": 2,
   "metadata": {},
   "outputs": [],
   "source": [
    "meshtree_file = \"mtrees2021.bin\""
   ]
  },
  {
   "cell_type": "markdown",
   "metadata": {},
   "source": [
    "### Tree Node ID"
   ]
  },
  {
   "cell_type": "code",
   "execution_count": 22,
   "metadata": {},
   "outputs": [],
   "source": [
    "name2id = {}\n",
    "id2name = {}\n",
    "\n",
    "NStree =[]\n",
    "\n",
    "c = 0\n",
    "with open(meshtree_file, \"r\") as ftree:\n",
    "    for line in ftree:\n",
    "        #print (line)\n",
    "        c = c+1\n",
    "        term = line.strip().split(\";\")\n",
    "        name = term[0]\n",
    "        ID = term[1]    \n",
    "        \n",
    "        if ID[0:3] ==\"A08\":\n",
    "            #print(term,ID)\n",
    "            NStree.append({\"name\": name, \"ID\":ID})\n",
    "            \n",
    "            \n",
    "        name2id.update({name:ID})\n",
    "        id2name.update({ID:name})"
   ]
  },
  {
   "cell_type": "code",
   "execution_count": 23,
   "metadata": {},
   "outputs": [
    {
     "data": {
      "text/plain": [
       "61314"
      ]
     },
     "execution_count": 23,
     "metadata": {},
     "output_type": "execute_result"
    }
   ],
   "source": [
    "c"
   ]
  },
  {
   "cell_type": "code",
   "execution_count": 24,
   "metadata": {},
   "outputs": [],
   "source": [
    "with open(\"name2id.json\",\"w\") as f1:\n",
    "    json.dump(name2id,f1)"
   ]
  },
  {
   "cell_type": "code",
   "execution_count": 25,
   "metadata": {},
   "outputs": [],
   "source": [
    "with open(\"id2name.json\",\"w\") as f2:\n",
    "    json.dump(id2name,f2)"
   ]
  },
  {
   "cell_type": "code",
   "execution_count": 26,
   "metadata": {},
   "outputs": [
    {
     "data": {
      "text/plain": [
       "'Nervous System'"
      ]
     },
     "execution_count": 26,
     "metadata": {},
     "output_type": "execute_result"
    }
   ],
   "source": [
    "id2name['A08']"
   ]
  },
  {
   "cell_type": "code",
   "execution_count": 36,
   "metadata": {},
   "outputs": [
    {
     "data": {
      "text/plain": [
       "'H02.403.650'"
      ]
     },
     "execution_count": 36,
     "metadata": {},
     "output_type": "execute_result"
    }
   ],
   "source": [
    "name2id['Pathology']"
   ]
  },
  {
   "cell_type": "code",
   "execution_count": 28,
   "metadata": {},
   "outputs": [
    {
     "data": {
      "text/plain": [
       "653"
      ]
     },
     "execution_count": 28,
     "metadata": {},
     "output_type": "execute_result"
    }
   ],
   "source": [
    "len(list(NStree))"
   ]
  },
  {
   "cell_type": "markdown",
   "metadata": {},
   "source": [
    "### Nervous System"
   ]
  },
  {
   "cell_type": "code",
   "execution_count": 29,
   "metadata": {},
   "outputs": [],
   "source": [
    "NS = pd.DataFrame(NStree)\n",
    "NS = NS.set_index('name')\n",
    "NS = NS.sort_values(\"ID\",ascending =True)"
   ]
  },
  {
   "cell_type": "code",
   "execution_count": 30,
   "metadata": {},
   "outputs": [
    {
     "data": {
      "text/html": [
       "<div>\n",
       "<style scoped>\n",
       "    .dataframe tbody tr th:only-of-type {\n",
       "        vertical-align: middle;\n",
       "    }\n",
       "\n",
       "    .dataframe tbody tr th {\n",
       "        vertical-align: top;\n",
       "    }\n",
       "\n",
       "    .dataframe thead th {\n",
       "        text-align: right;\n",
       "    }\n",
       "</style>\n",
       "<table border=\"1\" class=\"dataframe\">\n",
       "  <thead>\n",
       "    <tr style=\"text-align: right;\">\n",
       "      <th></th>\n",
       "      <th>ID</th>\n",
       "    </tr>\n",
       "    <tr>\n",
       "      <th>name</th>\n",
       "      <th></th>\n",
       "    </tr>\n",
       "  </thead>\n",
       "  <tbody>\n",
       "    <tr>\n",
       "      <th>Nervous System</th>\n",
       "      <td>A08</td>\n",
       "    </tr>\n",
       "    <tr>\n",
       "      <th>Central Nervous System</th>\n",
       "      <td>A08.186</td>\n",
       "    </tr>\n",
       "    <tr>\n",
       "      <th>Brain</th>\n",
       "      <td>A08.186.211</td>\n",
       "    </tr>\n",
       "    <tr>\n",
       "      <th>Blood-Brain Barrier</th>\n",
       "      <td>A08.186.211.035</td>\n",
       "    </tr>\n",
       "    <tr>\n",
       "      <th>Brain Stem</th>\n",
       "      <td>A08.186.211.132</td>\n",
       "    </tr>\n",
       "    <tr>\n",
       "      <th>Mesencephalon</th>\n",
       "      <td>A08.186.211.132.659</td>\n",
       "    </tr>\n",
       "    <tr>\n",
       "      <th>Cerebral Peduncle</th>\n",
       "      <td>A08.186.211.132.659.413</td>\n",
       "    </tr>\n",
       "    <tr>\n",
       "      <th>Cerebral Crus</th>\n",
       "      <td>A08.186.211.132.659.413.437</td>\n",
       "    </tr>\n",
       "    <tr>\n",
       "      <th>Substantia Nigra</th>\n",
       "      <td>A08.186.211.132.659.413.656</td>\n",
       "    </tr>\n",
       "    <tr>\n",
       "      <th>Pars Compacta</th>\n",
       "      <td>A08.186.211.132.659.413.656.249</td>\n",
       "    </tr>\n",
       "  </tbody>\n",
       "</table>\n",
       "</div>"
      ],
      "text/plain": [
       "                                                     ID\n",
       "name                                                   \n",
       "Nervous System                                      A08\n",
       "Central Nervous System                          A08.186\n",
       "Brain                                       A08.186.211\n",
       "Blood-Brain Barrier                     A08.186.211.035\n",
       "Brain Stem                              A08.186.211.132\n",
       "Mesencephalon                       A08.186.211.132.659\n",
       "Cerebral Peduncle               A08.186.211.132.659.413\n",
       "Cerebral Crus               A08.186.211.132.659.413.437\n",
       "Substantia Nigra            A08.186.211.132.659.413.656\n",
       "Pars Compacta           A08.186.211.132.659.413.656.249"
      ]
     },
     "execution_count": 30,
     "metadata": {},
     "output_type": "execute_result"
    }
   ],
   "source": [
    "NS.head(10)"
   ]
  },
  {
   "cell_type": "code",
   "execution_count": 31,
   "metadata": {},
   "outputs": [],
   "source": [
    "NS.to_csv(\"NS.csv\")"
   ]
  },
  {
   "cell_type": "code",
   "execution_count": 32,
   "metadata": {},
   "outputs": [
    {
     "data": {
      "text/plain": [
       "653"
      ]
     },
     "execution_count": 32,
     "metadata": {},
     "output_type": "execute_result"
    }
   ],
   "source": [
    "len(NS)"
   ]
  },
  {
   "cell_type": "markdown",
   "metadata": {},
   "source": [
    "### Unique ID"
   ]
  },
  {
   "cell_type": "code",
   "execution_count": 33,
   "metadata": {},
   "outputs": [
    {
     "name": "stdout",
     "output_type": "stream",
     "text": [
      "0\n"
     ]
    }
   ],
   "source": [
    "RESOURCE_URL = \"http://id.nlm.nih.gov/mesh/lookup/descriptor?label={}&match=exact&limit=1\"\n",
    "c = 0\n",
    "name2uid={}\n",
    "uid2name = {}\n",
    "for item in CVDtree:\n",
    "    mesh = item['name']\n",
    "    response = req.get(RESOURCE_URL.format(mesh))\n",
    "    data = response.json()\n",
    "    try:\n",
    "        resource_string = data[0][\"resource\"]\n",
    "        unique_id = resource_string.split(\"mesh/\")[1]\n",
    "        \n",
    "        print(mesh,unique_id)\n",
    "        name2uid.update({mesh:unique_id})\n",
    "        uid2name.update({unique_id:mesh})\n",
    "    except:\n",
    "        #print(name,  \"not found------------------------?\")\n",
    "        continue\n",
    "        #print(name,unique_id)\n",
    "    c = c+1\n",
    "    \n",
    "print(c)"
   ]
  },
  {
   "cell_type": "code",
   "execution_count": 34,
   "metadata": {},
   "outputs": [],
   "source": [
    "with open(\"name2uid.json\",\"w\")as f:\n",
    "    json.dump(name2uid,f)\n",
    "with open(\"uid2name.json\",\"w\")as ff:\n",
    "    json.dump(uid2name,ff)"
   ]
  },
  {
   "cell_type": "markdown",
   "metadata": {},
   "source": [
    "### NS - TREE"
   ]
  },
  {
   "cell_type": "code",
   "execution_count": 54,
   "metadata": {},
   "outputs": [],
   "source": [
    "jstree = []\n",
    "for name, ID in zip(list(NS.index), NS['ID']):\n",
    "    ids = ID.split(\".\")\n",
    "    for id in ids:\n",
    "        if ids.index(id) == 0:\n",
    "            Id = id\n",
    "        else:\n",
    "            Id = Id + \".\" + id\n",
    "        if ids.index(id) == 0:    \n",
    "            Name = id2name[Id]\n",
    "        else:\n",
    "            Name = Name + \"|\" + id2name[Id]\n",
    "    \n",
    "        \n",
    "    jstree.append({\"id\":Name, \"value\":ID})"
   ]
  },
  {
   "cell_type": "code",
   "execution_count": 55,
   "metadata": {},
   "outputs": [],
   "source": [
    "import pandas as pd\n",
    "DF = pd.DataFrame(jstree)"
   ]
  },
  {
   "cell_type": "code",
   "execution_count": 57,
   "metadata": {},
   "outputs": [],
   "source": [
    "DF.to_csv(\"NS.csv\")"
   ]
  },
  {
   "cell_type": "markdown",
   "metadata": {},
   "source": [
    "### Nervous System Disease"
   ]
  },
  {
   "cell_type": "code",
   "execution_count": null,
   "metadata": {},
   "outputs": [],
   "source": []
  },
  {
   "cell_type": "code",
   "execution_count": null,
   "metadata": {},
   "outputs": [],
   "source": []
  },
  {
   "cell_type": "code",
   "execution_count": null,
   "metadata": {},
   "outputs": [],
   "source": []
  },
  {
   "cell_type": "code",
   "execution_count": null,
   "metadata": {},
   "outputs": [],
   "source": []
  },
  {
   "cell_type": "code",
   "execution_count": null,
   "metadata": {},
   "outputs": [],
   "source": []
  },
  {
   "cell_type": "code",
   "execution_count": null,
   "metadata": {},
   "outputs": [],
   "source": []
  },
  {
   "cell_type": "code",
   "execution_count": null,
   "metadata": {},
   "outputs": [],
   "source": []
  }
 ],
 "metadata": {
  "kernelspec": {
   "display_name": "Python 3 (ipykernel)",
   "language": "python",
   "name": "python3"
  },
  "language_info": {
   "codemirror_mode": {
    "name": "ipython",
    "version": 3
   },
   "file_extension": ".py",
   "mimetype": "text/x-python",
   "name": "python",
   "nbconvert_exporter": "python",
   "pygments_lexer": "ipython3",
   "version": "3.9.7"
  }
 },
 "nbformat": 4,
 "nbformat_minor": 2
}
